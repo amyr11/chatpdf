{
 "cells": [
  {
   "cell_type": "code",
   "execution_count": 1,
   "id": "116074ad",
   "metadata": {},
   "outputs": [
    {
     "data": {
      "text/plain": [
       "True"
      ]
     },
     "execution_count": 1,
     "metadata": {},
     "output_type": "execute_result"
    }
   ],
   "source": [
    "import os\n",
    "from dotenv import load_dotenv\n",
    "\n",
    "load_dotenv()"
   ]
  },
  {
   "cell_type": "code",
   "execution_count": 2,
   "id": "355addbb",
   "metadata": {},
   "outputs": [],
   "source": [
    "from langchain.chat_models import init_chat_model\n",
    "\n",
    "llm = init_chat_model(\"llama-3.3-70b-versatile\", model_provider=\"groq\")"
   ]
  },
  {
   "cell_type": "code",
   "execution_count": 3,
   "id": "db23693f",
   "metadata": {},
   "outputs": [
    {
     "name": "stderr",
     "output_type": "stream",
     "text": [
      "/Users/amyrfrancisco/Developer/projects/tm-rag-amyr/.venv/lib/python3.13/site-packages/tqdm/auto.py:21: TqdmWarning: IProgress not found. Please update jupyter and ipywidgets. See https://ipywidgets.readthedocs.io/en/stable/user_install.html\n",
      "  from .autonotebook import tqdm as notebook_tqdm\n"
     ]
    }
   ],
   "source": [
    "from langchain_huggingface import HuggingFaceEmbeddings\n",
    "\n",
    "embeddings = HuggingFaceEmbeddings(model_name=\"sentence-transformers/all-mpnet-base-v2\")"
   ]
  },
  {
   "cell_type": "code",
   "execution_count": 4,
   "id": "b92c7d08",
   "metadata": {},
   "outputs": [
    {
     "name": "stderr",
     "output_type": "stream",
     "text": [
      "100%|██████████| 1/1 [00:08<00:00,  8.01s/it]\n"
     ]
    },
    {
     "data": {
      "text/plain": [
       "1"
      ]
     },
     "execution_count": 4,
     "metadata": {},
     "output_type": "execute_result"
    }
   ],
   "source": [
    "from langchain_community.document_loaders import DirectoryLoader\n",
    "\n",
    "loader = DirectoryLoader(\"docs\", glob=\"**/*.pdf\", show_progress=True, use_multithreading=True)\n",
    "docs = loader.load()\n",
    "\n",
    "len(docs)"
   ]
  },
  {
   "cell_type": "code",
   "execution_count": 5,
   "id": "102bd31b",
   "metadata": {},
   "outputs": [
    {
     "data": {
      "text/plain": [
       "387"
      ]
     },
     "execution_count": 5,
     "metadata": {},
     "output_type": "execute_result"
    }
   ],
   "source": [
    "from langchain_text_splitters import RecursiveCharacterTextSplitter\n",
    "\n",
    "text_splitter = RecursiveCharacterTextSplitter(chunk_size=1000, chunk_overlap=250)\n",
    "all_splits = text_splitter.split_documents(docs)\n",
    "\n",
    "len(all_splits)"
   ]
  },
  {
   "cell_type": "code",
   "execution_count": 6,
   "id": "530b82cc",
   "metadata": {},
   "outputs": [],
   "source": [
    "from langchain_chroma import Chroma\n",
    "\n",
    "# vector_store = Chroma(\n",
    "#     embedding_function=embeddings,\n",
    "#     persist_directory=\"chroma_langchain_db\"\n",
    "# )\n",
    "\n",
    "vector_store = Chroma.from_documents(all_splits, embeddings)"
   ]
  },
  {
   "cell_type": "code",
   "execution_count": 7,
   "id": "76b108b0",
   "metadata": {},
   "outputs": [],
   "source": [
    "# _ = vector_store.add_documents(documents=all_splits)"
   ]
  },
  {
   "cell_type": "code",
   "execution_count": 21,
   "id": "9d8839b5",
   "metadata": {},
   "outputs": [],
   "source": [
    "from langchain_core.prompts import PromptTemplate\n",
    "\n",
    "template = \"\"\"\n",
    "You are an assistant for question-answering tasks. Use the following pieces of retrieved context to answer the question. If you don't know the answer, just say that you don't know. Use three sentences maximum and keep the answer concise.\n",
    "Refer to the 'context' as the 'document' but don't mention 'According to the document' or the likes when answering questions. Provide the answer directly.\n",
    "Question: {question} \n",
    "Context: {context} \n",
    "Answer:\n",
    "\"\"\"\n",
    "\n",
    "custom_rag_prompt = PromptTemplate.from_template(template)"
   ]
  },
  {
   "cell_type": "code",
   "execution_count": 22,
   "id": "c95a9832",
   "metadata": {},
   "outputs": [],
   "source": [
    "from langchain_core.documents import Document\n",
    "from typing_extensions import List, TypedDict, Annotated\n",
    "\n",
    "class Search(TypedDict):\n",
    "    query: Annotated[str, ..., \"Search query to run\"]\n",
    "    topic: Annotated[str, ..., \"Topic of the query\"]\n",
    "\n",
    "class State(TypedDict):\n",
    "    question: str\n",
    "    query: Search\n",
    "    context: List[Document]\n",
    "    answer:str"
   ]
  },
  {
   "cell_type": "code",
   "execution_count": 32,
   "id": "ab6a2176",
   "metadata": {},
   "outputs": [],
   "source": [
    "def analyze_query(state: State):\n",
    "    structured_llm = llm.with_structured_output(Search)\n",
    "    query = structured_llm.invoke(state[\"question\"])\n",
    "    return {\"query\": query}\n",
    "\n",
    "def retrieve(state: State):\n",
    "    query = state[\"query\"]\n",
    "    retrieved_docs = vector_store.similarity_search(query[\"query\"])\n",
    "    return {\"context\": retrieved_docs}\n",
    "\n",
    "def generate(state: State):\n",
    "    docs_content = \"\\n\\n\".join(doc.page_content for doc in state[\"context\"])\n",
    "    messages = custom_rag_prompt.invoke({\"question\": state[\"question\"], \"context\": docs_content})\n",
    "    response = llm.invoke(messages)\n",
    "    return {\"answer\": response.content}"
   ]
  },
  {
   "cell_type": "code",
   "execution_count": 33,
   "id": "c52ff536",
   "metadata": {},
   "outputs": [],
   "source": [
    "from langgraph.graph import START, StateGraph\n",
    "\n",
    "graph_builder = StateGraph(State).add_sequence([analyze_query, retrieve, generate])\n",
    "graph_builder.add_edge(START, \"analyze_query\")\n",
    "graph = graph_builder.compile()"
   ]
  },
  {
   "cell_type": "code",
   "execution_count": 34,
   "id": "dafa038b",
   "metadata": {},
   "outputs": [
    {
     "data": {
      "image/png": "[encoded data removed]",
      "text/plain": [
       "<IPython.core.display.Image object>"
      ]
     },
     "metadata": {},
     "output_type": "display_data"
    }
   ],
   "source": [
    "from IPython.display import Image, display\n",
    "\n",
    "display(Image(graph.get_graph().draw_mermaid_png()))"
   ]
  },
  {
   "cell_type": "code",
   "execution_count": 35,
   "id": "7d92ae46",
   "metadata": {},
   "outputs": [
    {
     "name": "stdout",
     "output_type": "stream",
     "text": [
      "{'analyze_query': {'query': {'query': '2024 upcoming events', 'topic': 'future events and trends'}}}\n",
      "\n",
      "---------------------------\n",
      "\n",
      "{'retrieve': {'context': [Document(id='2d6f4d1b-c265-411a-bcc8-1cc9bbde6a37', metadata={'source': 'docs/2023_Annual_Report.pdf'}, page_content='(In millions)\\n\\n2024\\n\\nThereafter\\n\\nLong-term debt: (a)\\n\\nPrincipal payments Interest payments\\n\\nConstruction commitments (b) Operating and finance leases, including imputed interest (c) Purchase commitments (d)\\n\\n$\\n\\n5,250 $ 1,379 12,237 5,988 64,703\\n\\n47,616 $ 19,746 1,218 73,852 3,115\\n\\nTotal\\n\\n$\\n\\n89,557 $\\n\\n145,547 $\\n\\n(a) Refer to Note 11 – Debt of the Notes to Financial Statements. (b) Refer to Note 7 – Property and Equipment of the Notes to Financial Statements. (c) Refer to Note 14 – Leases of the Notes to Financial Statements. (d) Purchase commitments primarily relate to datacenters and include open purchase orders and take-or-pay contracts\\n\\nthat are not presented as construction commitments above.\\n\\nIncome Taxes'), Document(id='cc7a1e45-ecca-457c-851f-1cfeeb9546be', metadata={'source': 'docs/2023_Annual_Report.pdf'}, page_content='2024 2025 2026 2027 2028 Thereafter\\n\\n$\\n\\nTotal\\n\\n$\\n\\nNOTE 12 — INCOME TAXES\\n\\nProvision for Income Taxes\\n\\nThe components of the provision for income taxes were as follows:\\n\\n(In millions)\\n\\nYear Ended June 30,\\n\\n2023\\n\\n2022\\n\\nCurrent Taxes\\n\\nU.S. federal U.S. state and local Foreign\\n\\n$\\n\\n14,009 $\\n\\n2,322 6,678\\n\\n8,329 $ 1,679 6,672\\n\\nCurrent taxes\\n\\n$\\n\\n23,009 $\\n\\n16,680 $\\n\\nDeferred Taxes U.S. federal U.S. state and local Foreign\\n\\n$\\n\\n(6,146) $ (477) 564\\n\\n(4,815) $ (1,062) 175\\n\\nDeferred taxes\\n\\n$\\n\\n(6,059) $\\n\\n(5,702) $\\n\\nProvision for income taxes\\n\\n$\\n\\n16,950 $\\n\\n10,978 $\\n\\nU.S. and foreign components of income before income taxes were as follows:\\n\\n(In millions)\\n\\nYear Ended June 30,\\n\\n2023\\n\\n2022\\n\\nU.S. Foreign\\n\\n$\\n\\n52,917 $ 36,394\\n\\n47,837 $ 35,879\\n\\nIncome before income taxes\\n\\n$\\n\\n89,311 $\\n\\n83,716 $\\n\\nEffective Tax Rate\\n\\nThe items accounting for the difference between income taxes computed at the U.S. federal statutory rate and our effective rate were as follows:\\n\\nYear Ended June 30,\\n\\n2023\\n\\n2022\\n\\n63'), Document(id='b3815077-9ba2-4ba0-aef5-71a0661566a0', metadata={'source': 'docs/2023_Annual_Report.pdf'}, page_content='2022\\n\\n2021\\n\\nFirst Quarter Second Quarter Third Quarter Fourth Quarter\\n\\n17\\u2009 $ 20 18 14\\n\\n4,600\\u2009 4,600 4,600 4,600\\n\\n21\\u2009 $ 20 26 28\\n\\n6,200 6,233 7,800 7,800\\n\\n25\\u2009 $ 27 25 24\\n\\n5,270\\u2009 5,750 5,750 6,200\\n\\nTotal\\n\\n69 $\\n\\n18,400\\n\\n95 $\\n\\n28,033\\n\\n101 $\\n\\n22,970\\n\\nAll repurchases were made using cash resources. Shares repurchased during fiscal year 2023 and the fourth and third quarters of fiscal year 2022 were under the share repurchase program approved on September 14, 2021. Shares repurchased during the second quarter of fiscal year 2022 were under the share repurchase programs approved on both September 14, 2021 and September 18, 2019. All other shares repurchased were under the share repurchase program approved on September 18, 2019. The above table excludes shares repurchased to settle employee tax withholding related to the vesting of stock awards of $3.8 billion, $4.7 billion, and $4.4 billion for fiscal years 2023, 2022, and 2021, respectively.\\n\\nDividends'), Document(id='a8ef9b36-b982-4620-bb7b-1f548e54bbbf', metadata={'source': 'docs/2023_Annual_Report.pdf'}, page_content='Fiscal Year 2023 Compared with Fiscal Year 2022\\n\\nInterest and dividends income increased due to higher yields, offset in part by lower portfolio balances. Interest expense decreased due to a decrease in outstanding long-term debt due to debt maturities. Net recognized gains on investments decreased due to lower gains on equity securities and higher losses on fixed income securities. Net losses on derivatives increased due to losses related to managing strategic investments.\\n\\nINCOME TAXES\\n\\nEffective Tax Rate\\n\\nOur effective tax rate for fiscal years 2023 and 2022 was 19% and 13%, respectively. The increase in our effective tax rate was primarily due to a $3.3 billion net income tax benefit in the first quarter of fiscal year 2022 related to the transfer of intangible properties and a decrease in tax benefits relating to stock-based compensation.')]}}\n",
      "\n",
      "---------------------------\n",
      "\n",
      "{'generate': {'answer': 'We look forward to paying principal payments, interest payments, construction commitments, operating and finance leases, and purchase commitments totaling $89,557 in 2024. There are also provisions for income taxes, including current and deferred taxes. The total provision for income taxes in 2024 is not specified, but the components of the provision are outlined.'}}\n",
      "\n",
      "---------------------------\n",
      "\n"
     ]
    }
   ],
   "source": [
    "for step in graph.stream(\n",
    "    {\"question\": \"what do we look forward to in 2024?\"},\n",
    "    stream_mode=\"updates\",\n",
    "):\n",
    "    print(f\"{step}\\n\\n---------------------------\\n\")"
   ]
  },
  {
   "cell_type": "code",
   "execution_count": 36,
   "id": "4b659134",
   "metadata": {},
   "outputs": [
    {
     "name": "stdout",
     "output_type": "stream",
     "text": [
      "Context: 4\n",
      "\n",
      "\n",
      "Answer: The document discusses Microsoft Corporation's financial performance, which is reported based on three segments: Productivity and Business Processes, Intelligent Cloud, and More Personal Computing. The company's financial statements are prepared in conformity with accounting principles generally accepted in the United States of America. The document also includes information on the company's management responsibility, accounting systems, and financial condition, as well as an analysis of its financial results and operations.\n"
     ]
    }
   ],
   "source": [
    "result = graph.invoke({\"question\": \"summarize the documents for me\"})\n",
    "\n",
    "print(f'Context: {len(result[\"context\"])}\\n\\n')\n",
    "print(f'Answer: {result[\"answer\"]}')"
   ]
  },
  {
   "cell_type": "code",
   "execution_count": null,
   "id": "c08d81bd",
   "metadata": {},
   "outputs": [],
   "source": []
  }
 ],
 "metadata": {
  "kernelspec": {
   "display_name": ".venv",
   "language": "python",
   "name": "python3"
  },
  "language_info": {
   "codemirror_mode": {
    "name": "ipython",
    "version": 3
   },
   "file_extension": ".py",
   "mimetype": "text/x-python",
   "name": "python",
   "nbconvert_exporter": "python",
   "pygments_lexer": "ipython3",
   "version": "3.13.2"
  }
 },
 "nbformat": 4,
 "nbformat_minor": 5
}
